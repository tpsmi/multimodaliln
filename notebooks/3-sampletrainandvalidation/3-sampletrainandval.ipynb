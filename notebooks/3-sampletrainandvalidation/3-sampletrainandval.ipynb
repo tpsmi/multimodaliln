{
 "cells": [
  {
   "cell_type": "markdown",
   "metadata": {},
   "source": [
    "# Image Sampling Notebook\n",
    "\n",
    "This notebook randomly samples images from a source folder and splits them into training and validation sets with a 90/10 ratio. \n",
    "\n",
    "## How to use this notebook:\n",
    "1. Run each cell in order by clicking on it and pressing Shift+Enter.\n",
    "2. When prompted, enter the required information (source folder, destination folder, and sample size).\n",
    "3. The script will create 'train' and 'val' subfolders in your destination folder and populate them with the sampled images."
   ]
  },
  {
   "cell_type": "markdown",
   "metadata": {},
   "source": [
    "## Step 1: Import required libraries\n",
    "\n",
    "This cell imports the necessary Python libraries for our script."
   ]
  },
  {
   "cell_type": "code",
   "execution_count": null,
   "metadata": {},
   "outputs": [],
   "source": [
    "import os\n",
    "import random\n",
    "import shutil\n",
    "from tqdm import tqdm"
   ]
  },
  {
   "cell_type": "markdown",
   "metadata": {},
   "source": [
    "## Step 2: Define the image sampling function\n",
    "\n",
    "This function will:\n",
    "1. Scan the source folder for images\n",
    "2. Randomly sample the specified number of images\n",
    "3. Split the sampled images into train (90%) and validation (10%) sets\n",
    "4. Copy the images to the respective folders"
   ]
  },
  {
   "cell_type": "code",
   "execution_count": null,
   "metadata": {},
   "outputs": [],
   "source": [
    "def sample_images(source_folder, destination_folder, sample_size):\n",
    "    # Ensure the destination folders exist\n",
    "    train_folder = os.path.join(destination_folder, 'train')\n",
    "    val_folder = os.path.join(destination_folder, 'val')\n",
    "    os.makedirs(train_folder, exist_ok=True)\n",
    "    os.makedirs(val_folder, exist_ok=True)\n",
    "\n",
    "    # List all image files in the source folder and its subfolders\n",
    "    all_images = []\n",
    "    for root, _, files in tqdm(os.walk(source_folder), desc=\"Scanning folders\"):\n",
    "        all_images.extend([os.path.join(root, file) for file in files if file.lower().endswith(('.png', '.jpg', '.jpeg'))])\n",
    "\n",
    "    # Shuffle the list of images to ensure randomness\n",
    "    random.shuffle(all_images)\n",
    "\n",
    "    # Check if the sample size is larger than the number of available images\n",
    "    if sample_size > len(all_images):\n",
    "        raise ValueError(f\"Sample size ({sample_size}) is larger than the number of available images ({len(all_images)})\")\n",
    "\n",
    "    # Randomly sample the images\n",
    "    sampled_images = random.sample(all_images, sample_size)\n",
    "\n",
    "    # Calculate the split\n",
    "    train_size = int(0.9 * sample_size)\n",
    "    train_images = sampled_images[:train_size]\n",
    "    val_images = sampled_images[train_size:]\n",
    "\n",
    "    # Copy the sampled images to the destination folders\n",
    "    for img in tqdm(train_images, desc=\"Copying training images\"):\n",
    "        dst_path = os.path.join(train_folder, os.path.basename(img))\n",
    "        shutil.copy2(img, dst_path)\n",
    "\n",
    "    for img in tqdm(val_images, desc=\"Copying validation images\"):\n",
    "        dst_path = os.path.join(val_folder, os.path.basename(img))\n",
    "        shutil.copy2(img, dst_path)\n",
    "\n",
    "    print(f\"Copied {len(train_images)} images to the training set\")\n",
    "    print(f\"Copied {len(val_images)} images to the validation set\")"
   ]
  },
  {
   "cell_type": "markdown",
   "metadata": {},
   "source": [
    "## Step 3: Get user input\n",
    "\n",
    "This cell will prompt you to enter the required information:"
   ]
  },
  {
   "cell_type": "code",
   "execution_count": null,
   "metadata": {},
   "outputs": [],
   "source": [
    "source_folder = '/downloads'\n",
    "destination_folder = '/data/images/'\n",
    "sample_size = 1000"
   ]
  },
  {
   "cell_type": "markdown",
   "metadata": {},
   "source": [
    "## Step 4: Run the image sampling function\n",
    "\n",
    "This cell will execute the sampling process based on your input:"
   ]
  },
  {
   "cell_type": "code",
   "execution_count": null,
   "metadata": {},
   "outputs": [],
   "source": [
    "try:\n",
    "    sample_images(source_folder, destination_folder, sample_size)\n",
    "    print(\"\\nImage sampling completed successfully!\")\n",
    "    print(f\"Training images are in: {os.path.join(destination_folder, 'train')}\")\n",
    "    print(f\"Validation images are in: {os.path.join(destination_folder, 'val')}\")\n",
    "except Exception as e:\n",
    "    print(f\"An error occurred: {str(e)}\")"
   ]
  },
  {
   "cell_type": "markdown",
   "metadata": {},
   "source": [
    "## Completion\n",
    "\n",
    "If you've reached this point without any errors, your images have been successfully sampled and split into training and validation sets!\n",
    "\n",
    "You can find your sampled images in the following locations:\n",
    "- Training set: `[destination_folder]/train/`\n",
    "- Validation set: `[destination_folder]/val/`\n",
    "\n",
    "If you encounter any issues or have questions, please don't hesitate to ask for help."
   ]
  }
 ],
 "metadata": {
  "kernelspec": {
   "display_name": "Python 3 (ipykernel)",
   "language": "python",
   "name": "python3"
  },
  "language_info": {
   "codemirror_mode": {
    "name": "ipython",
    "version": 3
   },
   "file_extension": ".py",
   "mimetype": "text/x-python",
   "name": "python",
   "nbconvert_exporter": "python",
   "pygments_lexer": "ipython3",
   "version": "3.11.5"
  }
 },
 "nbformat": 4,
 "nbformat_minor": 4
}
