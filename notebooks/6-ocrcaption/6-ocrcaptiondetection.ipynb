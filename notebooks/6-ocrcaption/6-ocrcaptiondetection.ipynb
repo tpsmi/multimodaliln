{
 "cells": [
  {
   "cell_type": "markdown",
   "id": "c404b0a5",
   "metadata": {},
   "source": [
    "## Text Recognition\n",
    "\n",
    "Now that we've extracted our images, we'll perform text recognition on the caption. This process involves checking the readability of the text, enhancing the image quality, and then using OCR (Optical Character Recognition) to extract the text."
   ]
  },
  {
   "cell_type": "code",
   "execution_count": null,
   "id": "7291efe4",
   "metadata": {},
   "outputs": [],
   "source": [
    "import os\n",
    "import time\n",
    "import pandas as pd\n",
    "from PIL import Image\n",
    "from ultralytics import YOLO \n",
    "import torch  \n",
    "import numpy as np\n",
    "import glob\n",
    "import pytesseract\n",
    "from PIL import Image, ImageEnhance\n",
    "from concurrent.futures import ThreadPoolExecutor"
   ]
  },
  {
   "cell_type": "code",
   "execution_count": null,
   "id": "062be7a2",
   "metadata": {},
   "outputs": [],
   "source": [
    "df = pd.read_csv('cropped_images_metadata.csv')\n",
    "\n",
    "# Function to check text readability and correct orientation for a specific area of the image\n",
    "def check_text_readability(img):\n",
    "    img_width, img_height = img.size\n",
    "    caption_area = img.crop((0, int(img_height * 0.95), img_width, img_height))\n",
    "\n",
    "    # Try OCR at different rotations: 0, 90, 180, 270 degrees\n",
    "    for angle in [0, 90, 180, 270]:\n",
    "        test_img = caption_area.rotate(angle, expand=True)\n",
    "        test_text = pytesseract.image_to_string(test_img, config='--psm 7')\n",
    "        if any(char.isalpha() for char in test_text):\n",
    "            if angle != 0:\n",
    "                return img.rotate(angle, expand=True)\n",
    "            return img\n",
    "    return img\n",
    "\n",
    "# Function to process each image and measure processing time\n",
    "def process_image(row):\n",
    "    cropped_img_path = os.path.join(output_folder, row['cropped_filename'])\n",
    "    start_time = time.time()  # Start time measurement\n",
    "\n",
    "    try:\n",
    "        with Image.open(cropped_img_path) as img:\n",
    "            img = check_text_readability(img)\n",
    "            img_width, img_height = img.size\n",
    "            caption_img = img.crop((0, int(img_height * 0.95), img_width, img_height))\n",
    "            gray_img = caption_img.convert('L')\n",
    "            contrast_enhancer = ImageEnhance.Contrast(gray_img)\n",
    "            enhanced_img = contrast_enhancer.enhance(2)\n",
    "            threshold = 128\n",
    "            binarized_img = enhanced_img.point(lambda p: p > threshold and 255)\n",
    "            text = pytesseract.image_to_string(binarized_img, config='--psm 6')\n",
    "    except Exception as e:\n",
    "        print(f\"Failed to process {cropped_img_path}: {e}\")\n",
    "        text = \"\"\n",
    "\n",
    "    end_time = time.time()  # End time measurement\n",
    "    processing_time = end_time - start_time\n",
    "    return text.strip(), processing_time\n",
    "\n",
    "# Parallel processing and collect times\n",
    "with ThreadPoolExecutor(max_workers=4) as executor:\n",
    "    results = list(executor.map(process_image, df.to_dict('records')))\n",
    "\n",
    "# Unpack results and processing times\n",
    "text_data, times = zip(*results)\n",
    "\n",
    "# Add extracted text to the DataFrame\n",
    "df['extracted_text'] = text_data\n",
    "df.to_csv('final_output_with_text.csv', index=False)\n",
    "\n",
    "# Calculate average time per image\n",
    "total_time = sum(times)\n",
    "average_time = sum(times) / len(times)\n",
    "print(f\"Total processing time: {total_time:.2f} seconds\")\n",
    "print(f\"Average processing time per image: {average_time:.2f} seconds\")"
   ]
  }
 ],
 "metadata": {
  "kernelspec": {
   "display_name": "Python 3 (ipykernel)",
   "language": "python",
   "name": "python3"
  },
  "language_info": {
   "codemirror_mode": {
    "name": "ipython",
    "version": 3
   },
   "file_extension": ".py",
   "mimetype": "text/x-python",
   "name": "python",
   "nbconvert_exporter": "python",
   "pygments_lexer": "ipython3",
   "version": "3.11.5"
  }
 },
 "nbformat": 4,
 "nbformat_minor": 5
}
