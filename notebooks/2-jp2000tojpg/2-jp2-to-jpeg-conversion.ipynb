{
 "cells": [
  {
   "cell_type": "markdown",
   "metadata": {},
   "source": [
    "# JP2 to JPEG Conversion Notebook\n",
    "\n",
    "This notebook demonstrates how to convert JP2 (JPEG 2000) image files to standard JPEG format using Python and ImageMagick."
   ]
  },
  {
   "cell_type": "markdown",
   "metadata": {},
   "source": [
    "## Importing necessary libraries\n",
    "\n",
    "We start by importing the required Python libraries:"
   ]
  },
  {
   "cell_type": "code",
   "execution_count": null,
   "metadata": {},
   "outputs": [],
   "source": [
    "import os\n",
    "import time\n",
    "import subprocess\n",
    "from concurrent.futures import ThreadPoolExecutor\n",
    "import tqdm  # Optional: for progress bar"
   ]
  },
  {
   "cell_type": "markdown",
   "metadata": {},
   "source": [
    "Here's what each imported library does:\n",
    "\n",
    "- `os`: Provides functions for interacting with the operating system\n",
    "- `time`: Used for measuring the time taken for operations\n",
    "- `subprocess`: Allows running external commands (like ImageMagick's 'mogrify')\n",
    "- `ThreadPoolExecutor`: Enables parallel processing of tasks\n",
    "- `tqdm`: Provides a progress bar for long-running operations"
   ]
  },
  {
   "cell_type": "markdown",
   "metadata": {},
   "source": [
    "## Main Conversion Script\n",
    "\n",
    "Now, let's go through the main conversion script step by step:"
   ]
  },
  {
   "cell_type": "code",
   "execution_count": null,
   "metadata": {},
   "outputs": [],
   "source": [
    "# Directory containing .jp2 files\n",
    "input_dir = './downloads'\n",
    "\n",
    "# Find all .jp2 files in the directory\n",
    "jp2_files = []\n",
    "for root, dirs, files in os.walk(input_dir):\n",
    "    for file in files:\n",
    "        if file.endswith('.jp2') and not file.startswith('._'):\n",
    "            jp2_files.append(os.path.join(root, file))"
   ]
  },
  {
   "cell_type": "markdown",
   "metadata": {},
   "source": [
    "This code does the following:\n",
    "1. Sets the input directory where the JP2 files are located.\n",
    "2. Walks through the input directory and its subdirectories.\n",
    "3. Finds all .jp2 files, excluding those starting with '._' (which are often hidden system files on macOS).\n",
    "4. Adds the full paths of these files to the `jp2_files` list."
   ]
  },
  {
   "cell_type": "code",
   "execution_count": null,
   "metadata": {},
   "outputs": [],
   "source": [
    "# Initialize variables\n",
    "total_time = 0\n",
    "file_count = len(jp2_files)\n",
    "error_list = []  # List to record filenames of failed conversions\n",
    "\n",
    "# Function to convert a single .jp2 file to .jpeg\n",
    "def convert_and_remove(file_path):\n",
    "    try:\n",
    "        start_time = time.time()\n",
    "        subprocess.run(['mogrify', '-format', 'jpeg', '-quality', '95', file_path], check=True)\n",
    "        os.remove(file_path)  # Remove original file after successful conversion\n",
    "        end_time = time.time()\n",
    "        return end_time - start_time\n",
    "    except Exception as e:\n",
    "        error_list.append(file_path)  # Record the failing file path\n",
    "        return 0  # Return zero time for failed conversions"
   ]
  },
  {
   "cell_type": "markdown",
   "metadata": {},
   "source": [
    "This section:\n",
    "1. Initializes variables to keep track of the total time, file count, and any errors.\n",
    "2. Defines a function `convert_and_remove` that:\n",
    "   - Uses 'mogrify' (an ImageMagick command) to convert a single file to JPEG format with 95% quality.\n",
    "   - Removes the original JP2 file if the conversion is successful.\n",
    "   - Measures and returns the time taken for the conversion.\n",
    "   - If there's an error, it adds the file to the error list."
   ]
  },
  {
   "cell_type": "code",
   "execution_count": null,
   "metadata": {},
   "outputs": [],
   "source": [
    "# Use ThreadPoolExecutor to parallelize the file conversion\n",
    "with ThreadPoolExecutor() as executor:\n",
    "    # Optional: Use tqdm to show progress bar\n",
    "    results = list(tqdm.tqdm(executor.map(convert_and_remove, jp2_files), total=file_count))\n",
    "\n",
    "# Calculate total and average time\n",
    "total_time = sum(results)\n",
    "average_time = total_time / file_count if file_count > 0 else 0\n",
    "\n",
    "# Output results and errors\n",
    "print(f'Batch conversion complete.')\n",
    "print(f'Total time: {total_time:.2f} seconds')\n",
    "print(f'Average time per image: {average_time:.2f} seconds')\n",
    "if error_list:\n",
    "    print(f'Failed to convert {len(error_list)} files:')\n",
    "    for error_file in error_list:\n",
    "        print(error_file)"
   ]
  },
  {
   "cell_type": "markdown",
   "metadata": {},
   "source": [
    "This final section:\n",
    "1. Uses ThreadPoolExecutor to run the conversion function on multiple files in parallel, which can significantly speed up the process on multi-core systems.\n",
    "2. Uses tqdm to display a progress bar showing how many files have been processed.\n",
    "3. Calculates and prints the total time taken and the average time per image.\n",
    "4. If any files failed to convert, it prints the number of failures and lists the files that failed.\n",
    "\n",
    "This script is designed to efficiently convert a large number of JP2 files to JPEG format, which can be useful for making these images more compatible with common image viewers and web browsers. The use of parallel processing helps to speed up the conversion process when dealing with many files."
   ]
  }
 ],
 "metadata": {
  "kernelspec": {
   "display_name": "Python 3 (ipykernel)",
   "language": "python",
   "name": "python3"
  },
  "language_info": {
   "codemirror_mode": {
    "name": "ipython",
    "version": 3
   },
   "file_extension": ".py",
   "mimetype": "text/x-python",
   "name": "python",
   "nbconvert_exporter": "python",
   "pygments_lexer": "ipython3",
   "version": "3.11.5"
  }
 },
 "nbformat": 4,
 "nbformat_minor": 4
}
