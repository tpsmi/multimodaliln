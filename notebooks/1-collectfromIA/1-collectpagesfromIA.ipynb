{
 "cells": [
  {
   "cell_type": "markdown",
   "metadata": {},
   "source": [
    "# Illustrated London News Downloader\n",
    "\n",
    "This notebook downloads zip files containing JPEG 2000 images from the Internet Archive. While it was originally designed for the Illustrated London News collection from 1842 to 1849, you can use it for any collection on the Internet Archive.\n",
    "\n",
    "## What This Code Does\n",
    "\n",
    "1. It connects to the Internet Archive.\n",
    "2. It finds all the zip files for a specified collection.\n",
    "3. It downloads these zip files to a specified location on your computer.\n",
    "4. It checks for existing files, allowing you to resume interrupted downloads.\n",
    "\n",
    "## Requirements\n",
    "\n",
    "To use this code, you'll need:\n",
    "\n",
    "1. Python installed on your computer\n",
    "2. The `internetarchive` library\n",
    "\n",
    "You can install the required library by uncommenting and running the cell below:"
   ]
  },
  {
   "cell_type": "code",
   "execution_count": null,
   "metadata": {},
   "outputs": [],
   "source": [
    "#pip install internetarchive"
   ]
  },
  {
   "cell_type": "markdown",
   "metadata": {},
   "source": [
    "## Importing Required Libraries\n",
    "\n",
    "We start by importing the necessary libraries:"
   ]
  },
  {
   "cell_type": "code",
   "execution_count": null,
   "metadata": {},
   "outputs": [],
   "source": [
    "import internetarchive as ia\n",
    "from pathlib import Path\n",
    "from internetarchive import get_item\n",
    "import concurrent.futures"
   ]
  },
  {
   "cell_type": "markdown",
   "metadata": {},
   "source": [
    "## Defining Helper Functions\n",
    "\n",
    "Now we define two functions that will help us download the files:"
   ]
  },
  {
   "cell_type": "code",
   "execution_count": null,
   "metadata": {},
   "outputs": [],
   "source": [
    "def download_file(item_id, file_name, download_path):\n",
    "    print(f\"Downloading {file_name}...\")\n",
    "    get_item(item_id).download(files=file_name, destdir=str(download_path))\n",
    "\n",
    "def download_zips(item_id, download_path):\n",
    "    # Create a Path object for the download directory\n",
    "    download_path = Path(download_path)\n",
    "    download_path.mkdir(parents=True, exist_ok=True)  # Ensure the directory exists\n",
    "\n",
    "    # Fetch the item from Internet Archive\n",
    "    item = get_item(item_id)\n",
    "\n",
    "    # Prepare to download files using threading\n",
    "    with concurrent.futures.ThreadPoolExecutor() as executor:\n",
    "        futures = []\n",
    "        for file in item.files:\n",
    "            if file['name'].endswith('.zip'):\n",
    "                file_path = download_path / file['name']\n",
    "                if not file_path.exists():  # Check if the file already exists\n",
    "                    # Schedule the download\n",
    "                    futures.append(executor.submit(download_file, item_id, file['name'], download_path))\n",
    "                else:\n",
    "                    print(f\"{file['name']} already exists.\")\n",
    "\n",
    "        # Wait for all downloads to complete\n",
    "        concurrent.futures.wait(futures)"
   ]
  },
  {
   "cell_type": "markdown",
   "metadata": {},
   "source": [
    "### Explanation of the Functions\n",
    "\n",
    "1. `download_file(item_id, file_name, download_path)`:\n",
    "   - This function downloads a single file from the Internet Archive.\n",
    "   - It prints the name of the file being downloaded and uses the `get_item()` function to fetch and download the file.\n",
    "\n",
    "2. `download_zips(item_id, download_path)`:\n",
    "   - This is the main function that manages the download process.\n",
    "   - It creates a folder to store the downloads if it doesn't exist.\n",
    "   - It fetches information about the collection we want to download.\n",
    "   - It then looks at each file in the collection:\n",
    "     - If it's a zip file and hasn't been downloaded yet, it starts a download.\n",
    "     - If the file already exists, it skips it and prints a message.\n",
    "   - It uses multiple threads to download files simultaneously, making the process faster.\n",
    "\n",
    "### Resuming Interrupted Downloads\n",
    "\n",
    "An important feature of this code is its ability to resume interrupted downloads. Here's how it works:\n",
    "\n",
    "1. Before downloading each file, the code checks if the file already exists in the download directory.\n",
    "2. If the file exists, it skips that file and moves on to the next one.\n",
    "3. If the file doesn't exist, it proceeds with the download.\n",
    "\n",
    "This means that if your download process is interrupted (e.g., due to internet disconnection or if you stop the notebook), you can simply run the code again, and it will:\n",
    "- Skip all the files that were already successfully downloaded\n",
    "- Continue downloading from where it left off\n",
    "\n",
    "This feature saves time and bandwidth by avoiding re-downloading files that are already complete.\n",
    "\n",
    "## Downloading the Files\n",
    "\n",
    "Now we can use these functions to download the collection. You can set your own `item_id` and `download_path`:"
   ]
  },
  {
   "cell_type": "code",
   "execution_count": null,
   "metadata": {},
   "outputs": [],
   "source": [
    "# Specify the item ID from the Internet Archive\n",
    "item_id = 'illustrated-london-news-1842-1849'  # You can change this to any other collection ID\n",
    "\n",
    "# Specify the download path\n",
    "download_path = './downloads'  # You can change this to any folder on your computer"
   ]
  },
  {
   "cell_type": "code",
   "execution_count": null,
   "metadata": {},
   "outputs": [],
   "source": [
    "# Call the function to download zip files\n",
    "download_zips(item_id, download_path)"
   ]
  },
  {
   "cell_type": "markdown",
   "metadata": {},
   "source": [
    "## Note\n",
    "\n",
    "- This script will download all zip files from the specified Internet Archive collection. Make sure you have enough space on your hard drive and a stable internet connection before running it.\n",
    "- You can change the `item_id` to download from a different collection. Visit archive.org and find the identifier of the collection you want to download.\n",
    "- You can change the `download_path` to save the files to a different location on your computer.\n",
    "- If you stop the download process and restart it later, it will automatically skip files that have already been downloaded and continue with the remaining files. This makes it easy to resume interrupted downloads without having to start over from the beginning."
   ]
  }
 ],
 "metadata": {
  "kernelspec": {
   "display_name": "Python 3 (ipykernel)",
   "language": "python",
   "name": "python3"
  },
  "language_info": {
   "codemirror_mode": {
    "name": "ipython",
    "version": 3
   },
   "file_extension": ".py",
   "mimetype": "text/x-python",
   "name": "python",
   "nbconvert_exporter": "python",
   "pygments_lexer": "ipython3",
   "version": "3.11.5"
  }
 },
 "nbformat": 4,
 "nbformat_minor": 2
}
